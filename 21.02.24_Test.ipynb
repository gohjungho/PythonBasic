{
  "nbformat": 4,
  "nbformat_minor": 0,
  "metadata": {
    "colab": {
      "name": "21.02.24Test.ipynb",
      "provenance": [],
      "authorship_tag": "ABX9TyPYO+kbS6135WOl78v9B9l7",
      "include_colab_link": true
    },
    "kernelspec": {
      "name": "python3",
      "display_name": "Python 3"
    }
  },
  "cells": [
    {
      "cell_type": "markdown",
      "metadata": {
        "id": "view-in-github",
        "colab_type": "text"
      },
      "source": [
        "<a href=\"https://colab.research.google.com/github/gohjungho/PythonBasic/blob/main/21.02.24_Test.ipynb\" target=\"_parent\"><img src=\"https://colab.research.google.com/assets/colab-badge.svg\" alt=\"Open In Colab\"/></a>"
      ]
    },
    {
      "cell_type": "code",
      "metadata": {
        "colab": {
          "base_uri": "https://localhost:8080/"
        },
        "id": "URL0iJmygvGX",
        "outputId": "7febbbe1-c112-4b05-ec5c-2a279646dd21"
      },
      "source": [
        "# 1000미만의 3과 5의 배수들의 합 구하기 \r\n",
        "\r\n",
        "sum = 1\r\n",
        "for n in range(1,1000): # 1~999\r\n",
        "  if n % 3 == 0 or n % 5 == 0: # 3 또는 5의 배수 찾기\r\n",
        "    sum += n # sum = sum + n\r\n",
        "\r\n",
        "print(sum)"
      ],
      "execution_count": null,
      "outputs": [
        {
          "output_type": "stream",
          "text": [
            "233168\n"
          ],
          "name": "stdout"
        }
      ]
    },
    {
      "cell_type": "code",
      "metadata": {
        "id": "7DD1mt3xivOq",
        "colab": {
          "base_uri": "https://localhost:8080/"
        },
        "outputId": "cba77590-c6c5-4791-f441-9e3d5702ea73"
      },
      "source": [
        "n = 1\r\n",
        "sum = 0\r\n",
        "while n < 1000:\r\n",
        "  if n % 3 == 0 or n % 5 == 0: \r\n",
        "    sum += n \r\n",
        "  n += 1 # 1씩 더해주지 않으면 무한루프 돈다. 들여쓰기 주의....  \r\n",
        "\r\n",
        "print(sum)"
      ],
      "execution_count": 14,
      "outputs": [
        {
          "output_type": "stream",
          "text": [
            "233168\n"
          ],
          "name": "stdout"
        }
      ]
    },
    {
      "cell_type": "code",
      "metadata": {
        "id": "sg23zpjJyIz9"
      },
      "source": [
        ""
      ],
      "execution_count": null,
      "outputs": []
    }
  ]
}