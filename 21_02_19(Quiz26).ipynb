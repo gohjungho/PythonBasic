{
  "nbformat": 4,
  "nbformat_minor": 0,
  "metadata": {
    "colab": {
      "name": "21.02.19(Quiz26).ipynb",
      "provenance": [],
      "authorship_tag": "ABX9TyO3QwZ+7Bbb+nYUlk4YQKsb",
      "include_colab_link": true
    },
    "kernelspec": {
      "name": "python3",
      "display_name": "Python 3"
    }
  },
  "cells": [
    {
      "cell_type": "markdown",
      "metadata": {
        "id": "view-in-github",
        "colab_type": "text"
      },
      "source": [
        "<a href=\"https://colab.research.google.com/github/gohjungho/PythonBasic/blob/main/21_02_19(Quiz26).ipynb\" target=\"_parent\"><img src=\"https://colab.research.google.com/assets/colab-badge.svg\" alt=\"Open In Colab\"/></a>"
      ]
    },
    {
      "cell_type": "code",
      "metadata": {
        "colab": {
          "base_uri": "https://localhost:8080/"
        },
        "id": "mAaF-dZOJPAl",
        "outputId": "58aef953-a093-4cfd-a4a7-6fb8d1c77902"
      },
      "source": [
        "# Q1 \r\n",
        "\r\n",
        "nums = [100,200,300,400,500]\r\n",
        "# nums.pop()\r\n",
        "# nums.pop()\r\n",
        "del nums[3:]\r\n",
        "nums"
      ],
      "execution_count": 8,
      "outputs": [
        {
          "output_type": "execute_result",
          "data": {
            "text/plain": [
              "[100, 200, 300]"
            ]
          },
          "metadata": {
            "tags": []
          },
          "execution_count": 8
        }
      ]
    },
    {
      "cell_type": "code",
      "metadata": {
        "colab": {
          "base_uri": "https://localhost:8080/"
        },
        "id": "ownbVZBMJ1RA",
        "outputId": "aa4e49ab-a43d-4ca6-ce6b-46b56bf7e78d"
      },
      "source": [
        "nums = [100,200,300,400,500]\r\n",
        "nums.pop()\r\n",
        "nums.pop()"
      ],
      "execution_count": 9,
      "outputs": [
        {
          "output_type": "execute_result",
          "data": {
            "text/plain": [
              "400"
            ]
          },
          "metadata": {
            "tags": []
          },
          "execution_count": 9
        }
      ]
    },
    {
      "cell_type": "code",
      "metadata": {
        "colab": {
          "base_uri": "https://localhost:8080/"
        },
        "id": "fQi3IkPoLJw5",
        "outputId": "aa17869f-557f-4141-a1c2-de9649677d32"
      },
      "source": [
        "nums"
      ],
      "execution_count": 10,
      "outputs": [
        {
          "output_type": "execute_result",
          "data": {
            "text/plain": [
              "[100, 200, 300]"
            ]
          },
          "metadata": {
            "tags": []
          },
          "execution_count": 10
        }
      ]
    },
    {
      "cell_type": "code",
      "metadata": {
        "id": "hBSu-vIkLLHY"
      },
      "source": [
        "nums = [100,200,300,400,500]\r\n",
        "nums = nums[:3]"
      ],
      "execution_count": 11,
      "outputs": []
    },
    {
      "cell_type": "code",
      "metadata": {
        "colab": {
          "base_uri": "https://localhost:8080/"
        },
        "id": "YVD1MIbhMnZW",
        "outputId": "1d6e5c12-1d1f-49ee-d51c-793d62b24021"
      },
      "source": [
        "nums"
      ],
      "execution_count": 13,
      "outputs": [
        {
          "output_type": "execute_result",
          "data": {
            "text/plain": [
              "[100, 200, 300]"
            ]
          },
          "metadata": {
            "tags": []
          },
          "execution_count": 13
        }
      ]
    },
    {
      "cell_type": "code",
      "metadata": {
        "colab": {
          "base_uri": "https://localhost:8080/"
        },
        "id": "dPDVt1HBMoQ3",
        "outputId": "12fe9f28-c166-436e-e5b0-eba4020dadd1"
      },
      "source": [
        "# Q2\r\n",
        "\r\n",
        "l = [200,100,300]\r\n",
        "l.insert(2,10000)\r\n",
        "print(l)"
      ],
      "execution_count": 14,
      "outputs": [
        {
          "output_type": "stream",
          "text": [
            "[200, 100, 10000, 300]\n"
          ],
          "name": "stdout"
        }
      ]
    },
    {
      "cell_type": "code",
      "metadata": {
        "colab": {
          "base_uri": "https://localhost:8080/"
        },
        "id": "AczKhYMGN9A2",
        "outputId": "9e610d76-183d-46de-9616-fe705d971d45"
      },
      "source": [
        "# Q3 \r\n",
        "\r\n",
        "l = [100,200,300]\r\n",
        "print(type(l))\r\n",
        "\r\n",
        "# 1) class 'str'\r\n",
        "# 2) class 'int'\r\n",
        "# 3) class 'list'\r\n",
        "# 4) class 'tuple'"
      ],
      "execution_count": 15,
      "outputs": [
        {
          "output_type": "stream",
          "text": [
            "<class 'list'>\n"
          ],
          "name": "stdout"
        }
      ]
    },
    {
      "cell_type": "code",
      "metadata": {
        "colab": {
          "base_uri": "https://localhost:8080/"
        },
        "id": "GfDAJpw8PhKr",
        "outputId": "2971fc70-aaa9-4179-93f1-19c5dd6f31a2"
      },
      "source": [
        "a = 'p'\r\n",
        "type(a)"
      ],
      "execution_count": 17,
      "outputs": [
        {
          "output_type": "execute_result",
          "data": {
            "text/plain": [
              "str"
            ]
          },
          "metadata": {
            "tags": []
          },
          "execution_count": 17
        }
      ]
    },
    {
      "cell_type": "code",
      "metadata": {
        "colab": {
          "base_uri": "https://localhost:8080/"
        },
        "id": "3tTospi8P2WR",
        "outputId": "c3d8fd18-2788-46a4-de35-9bc4e200ef13"
      },
      "source": [
        "a = 10\r\n",
        "b = 2\r\n",
        "for i in range(1,5,2):\r\n",
        "  a += i\r\n",
        "\r\n",
        "print(a+b)"
      ],
      "execution_count": 22,
      "outputs": [
        {
          "output_type": "stream",
          "text": [
            "16\n"
          ],
          "name": "stdout"
        }
      ]
    },
    {
      "cell_type": "code",
      "metadata": {
        "id": "qtuLqg1RQx3R"
      },
      "source": [
        "_age = a"
      ],
      "execution_count": 24,
      "outputs": []
    },
    {
      "cell_type": "code",
      "metadata": {
        "colab": {
          "base_uri": "https://localhost:8080/"
        },
        "id": "P9QW1aM3SMva",
        "outputId": "ee210a34-f3fa-4ec7-ac4e-569c1472a4b2"
      },
      "source": [
        "d = {'weight':78, 'weight':84} # 키값이 중복될 시 마지막 것이 나온다.\r\n",
        "print(d['weight'])"
      ],
      "execution_count": 29,
      "outputs": [
        {
          "output_type": "stream",
          "text": [
            "84\n"
          ],
          "name": "stdout"
        }
      ]
    },
    {
      "cell_type": "code",
      "metadata": {
        "colab": {
          "base_uri": "https://localhost:8080/"
        },
        "id": "JTpvtfk1TrJi",
        "outputId": "3540bbf2-6913-4467-c4c7-f28ed79a5af2"
      },
      "source": [
        "year = '2019'\r\n",
        "month = '04'\r\n",
        "day = '26'\r\n",
        "hour = '11'\r\n",
        "minute = '34'\r\n",
        "second = '27'\r\n",
        "\r\n",
        "print(year, month, day, sep='/',end=' ')\r\n",
        "print(hour, minute, second, sep=':')\r\n",
        "\r\n",
        "# 2019/04/26 11:34:27"
      ],
      "execution_count": 30,
      "outputs": [
        {
          "output_type": "stream",
          "text": [
            "2019/04/26 11:34:27\n"
          ],
          "name": "stdout"
        }
      ]
    },
    {
      "cell_type": "code",
      "metadata": {
        "colab": {
          "base_uri": "https://localhost:8080/"
        },
        "id": "xL98uDbFXZAB",
        "outputId": "bc45b2ce-3e75-4a66-d994-1af1e827cd88"
      },
      "source": [
        "# Q10 트리 만들기 \r\n",
        "\r\n",
        "n = int(input(\"단 수: \"))\r\n",
        "for i in range(1, n + 1):\r\n",
        "  print(' ' * (n - i) + '*' * (i * 2 - 1))"
      ],
      "execution_count": 80,
      "outputs": [
        {
          "output_type": "stream",
          "text": [
            "단 수: 5\n",
            "    *\n",
            "   ***\n",
            "  *****\n",
            " *******\n",
            "*********\n"
          ],
          "name": "stdout"
        }
      ]
    },
    {
      "cell_type": "code",
      "metadata": {
        "colab": {
          "base_uri": "https://localhost:8080/"
        },
        "id": "VrDWfihoaPwB",
        "outputId": "fe8b917a-7f4d-428a-ef6c-c28f82e2b9b3"
      },
      "source": [
        "# Q11 for를 이용한 기본 활용 \r\n",
        "\r\n",
        "# 1~100을 모두 더하는 Code를 <pass> 부분에 완성하세요. for를 사용해야 합니다. \r\n",
        "\r\n",
        "s = 0 \r\n",
        "for i in range(1,100+1):\r\n",
        "  s += i\r\n",
        "\r\n",
        "print(s)"
      ],
      "execution_count": 70,
      "outputs": [
        {
          "output_type": "stream",
          "text": [
            "5050\n"
          ],
          "name": "stdout"
        }
      ]
    },
    {
      "cell_type": "code",
      "metadata": {
        "colab": {
          "base_uri": "https://localhost:8080/"
        },
        "id": "FTU40Ilex4Sd",
        "outputId": "4388b4af-92aa-48e9-fec7-c617f5c0b127"
      },
      "source": [
        "# Q12 게임 캐릭터 클래스 만들기 \r\n",
        "\r\n",
        "# 다음 소스코드에서 클래스를 작성하여 게임 캐릭터의 능력치와 '파이어볼'이 출력되게 만드시오.\r\n",
        "# 주어진 소스코드를 수정해선 안 됩니다. \r\n",
        "\r\n",
        "class Wizard:\r\n",
        "  def __init__(self, health, mana, armor):\r\n",
        "    self.health = health\r\n",
        "    self.mana = mana\r\n",
        "    self.armor = armor\r\n",
        "\r\n",
        "  def attack(self):\r\n",
        "    print('파이어볼')\r\n",
        "    \r\n",
        "x = Wizard(health = 545, mana = 210, armor = 10)\r\n",
        "print(x.health, x.mana, x.armor)\r\n",
        "x.attack()\r\n",
        "\r\n",
        "# 545 210 10 \r\n",
        "# 파이어볼 "
      ],
      "execution_count": 87,
      "outputs": [
        {
          "output_type": "stream",
          "text": [
            "545 210 10\n",
            "파이어볼\n"
          ],
          "name": "stdout"
        }
      ]
    },
    {
      "cell_type": "code",
      "metadata": {
        "colab": {
          "base_uri": "https://localhost:8080/"
        },
        "id": "e8l1EqvNzV_j",
        "outputId": "50b0bae8-5f4e-412b-e388-d145410da5b0"
      },
      "source": [
        "# Q13 몇 번째 행성인가요? \r\n",
        "\r\n",
        "# 우리 태양계를 이루고 있는 행성은 수성, 금성, 지구, 화성, 목성, 토성, 천왕성, 해왕성으로 \r\n",
        "# 총 8개입니다. 저희는 우리 태양계의 n번째 행성이 무엇인지 알고 싶습니다. \r\n",
        "\r\n",
        "# 입력으로 행성의 순서를 나타내는 숫자 n이 입력됩니다. 예를들어 수성은 첫 번째 행성입니다. \r\n",
        "# 1 \r\n",
        "\r\n",
        "# 출력으로 그 순서에 해당하는 행성의 이름을 출력해 주세요. \r\n",
        "# 수성 \r\n",
        "\r\n",
        "def planet(n):\r\n",
        "  universe = ['수성', '금성', '지구', '화성', '목성', '토성', '천왕성', '해왕성']\r\n",
        "  return print(universe[n-1])\r\n",
        "\r\n",
        "n = int(input('태양계에는 8개의 행성이 있어. 몇 번째 행성을 알고 싶어?: '))\r\n",
        "\r\n",
        "planet(n)"
      ],
      "execution_count": 85,
      "outputs": [
        {
          "output_type": "stream",
          "text": [
            "태양계에는 8개의 행성이 있어. 몇 번째 행성을 알고 싶어?: 2\n",
            "금성\n"
          ],
          "name": "stdout"
        }
      ]
    },
    {
      "cell_type": "code",
      "metadata": {
        "colab": {
          "base_uri": "https://localhost:8080/"
        },
        "id": "IkGEKNLY-zXg",
        "outputId": "e6d7b7b1-08b7-4223-d611-0a9cc971611b"
      },
      "source": [
        "# Q13 정답 \r\n",
        "\r\n",
        "planets = ['수성', '금성', '지구', '화성', '목성', '토성', '천왕성', '해왕성']\r\n",
        "\r\n",
        "n = int(input('몇 번째 행성을 알고 싶으신가요?: '))\r\n",
        "print(planets[n-1])\r\n",
        "\r\n",
        "# n = int(input('몇 번째 행성을 알고 싶으신가요?: ')) -1\r\n",
        "# print(planets[n])"
      ],
      "execution_count": 88,
      "outputs": [
        {
          "output_type": "stream",
          "text": [
            "몇 번째 행성을 알고 싶으신가요?: 1\n",
            "수성\n"
          ],
          "name": "stdout"
        }
      ]
    },
    {
      "cell_type": "code",
      "metadata": {
        "colab": {
          "base_uri": "https://localhost:8080/"
        },
        "id": "Id6YkEcW7VhJ",
        "outputId": "87ef3cbc-ac9f-4d72-ac37-28db18c599af"
      },
      "source": [
        "# Q14 3의 배수인가요? \r\n",
        "\r\n",
        "# 임의의 수가 3의 배수이면 '짝'을 3의 배수가 아니라면 n을 그대로 출력\r\n",
        "# 입력: 3 / 출력: 짝 \r\n",
        "\r\n",
        "num = int(input('숫자를 입력해주세요.: '))\r\n",
        "\r\n",
        "if num % 3 == 0:\r\n",
        "  print('짝')\r\n",
        "else: \r\n",
        "  print(num)"
      ],
      "execution_count": 90,
      "outputs": [
        {
          "output_type": "stream",
          "text": [
            "숫자를 입력해주세요.: 5\n",
            "5\n"
          ],
          "name": "stdout"
        }
      ]
    },
    {
      "cell_type": "code",
      "metadata": {
        "colab": {
          "base_uri": "https://localhost:8080/"
        },
        "id": "4Q7CwxkwADYm",
        "outputId": "36074746-d81e-46b0-c8b2-7f084db6c813"
      },
      "source": [
        "# Q15 자기소개 \r\n",
        "\r\n",
        "# 입력: 김승주 / 출력: 안녕하세요. 저는 김승주입니다. \r\n",
        "\r\n",
        "name = input('이름이 무엇인가요?: ')\r\n",
        "print('안녕하세요. 저는 %s입니다.' % name)\r\n",
        "# print('안녕하세요. 저는 {}}입니다.'.format(name))"
      ],
      "execution_count": 95,
      "outputs": [
        {
          "output_type": "stream",
          "text": [
            "이름이 무엇인가요?: brad\n",
            "안녕하세요. 저는 brad입니다.\n"
          ],
          "name": "stdout"
        }
      ]
    },
    {
      "cell_type": "code",
      "metadata": {
        "colab": {
          "base_uri": "https://localhost:8080/"
        },
        "id": "K6-saywOEBBC",
        "outputId": "ce76c6f8-d0fc-40f0-f52e-7b00b47a68b4"
      },
      "source": [
        "# Q16 로꾸거 - 글자 뒤집기\r\n",
        "\r\n",
        "a = input('문자열을 입력해 주세요.: ')\r\n",
        "print(a[::-1]) # 입력받은 글자 그대로 뒤집기 \r\n",
        "\r\n",
        "# a = input('문자열을 입력해 주세요.: ')\r\n",
        "# print(''.join(reversed(a)))\r\n",
        "\r\n",
        "# a = input('문자열을 입력해 주세요.: ')\r\n",
        "# for i in range(len(a), 0, -1): \r\n",
        "#   print(a[i - 1], end=' ') # 뒤에서부터 하나씩 출력 \r\n",
        "\r\n",
        "# 오답 \r\n",
        "# a = list(input('문자열을 입력해 주세요.: ')) \r\n",
        "# a.reverse()\r\n",
        "# print(a) # 거꾸로 -> ['로', '꾸', '거']"
      ],
      "execution_count": 105,
      "outputs": [
        {
          "output_type": "stream",
          "text": [
            "문자열을 입력해 주세요.: 거꾸로\n",
            "로꾸거\n"
          ],
          "name": "stdout"
        }
      ]
    },
    {
      "cell_type": "code",
      "metadata": {
        "colab": {
          "base_uri": "https://localhost:8080/"
        },
        "id": "sDu0WVhzBeaf",
        "outputId": "96e14533-295c-4507-dca7-ed6193258d35"
      },
      "source": [
        "# Q17 놀이기구 키 제한 \r\n",
        "\r\n",
        "# 키가 150이상이면 YES, 미만이면 NO를 출력 \r\n",
        "\r\n",
        "height = int(input(\"키가 어떻게 되나요?: \"))\r\n",
        "if height < 150:\r\n",
        "  print('NO')\r\n",
        "else:\r\n",
        "  print('YES')"
      ],
      "execution_count": 93,
      "outputs": [
        {
          "output_type": "stream",
          "text": [
            "키가 어떻게 되나요?: 156\n",
            "YES\n"
          ],
          "name": "stdout"
        }
      ]
    },
    {
      "cell_type": "code",
      "metadata": {
        "colab": {
          "base_uri": "https://localhost:8080/",
          "height": 222
        },
        "id": "9S9AfrpOCn4M",
        "outputId": "82da2c2d-6e36-406f-97ea-0ee5d21a2919"
      },
      "source": [
        "# Q18 평균 점수 구하기 \r\n",
        "\r\n",
        "nums = list(map(int,input().split()))\r\n",
        "print(int(sum(nums) / len(nums))) # 어디가 틀린 걸까?"
      ],
      "execution_count": 123,
      "outputs": [
        {
          "output_type": "stream",
          "text": [
            "10 20 30\n"
          ],
          "name": "stdout"
        },
        {
          "output_type": "error",
          "ename": "TypeError",
          "evalue": "ignored",
          "traceback": [
            "\u001b[0;31m---------------------------------------------------------------------------\u001b[0m",
            "\u001b[0;31mTypeError\u001b[0m                                 Traceback (most recent call last)",
            "\u001b[0;32m<ipython-input-123-d2397fbd300f>\u001b[0m in \u001b[0;36m<module>\u001b[0;34m()\u001b[0m\n\u001b[1;32m      2\u001b[0m \u001b[0;34m\u001b[0m\u001b[0m\n\u001b[1;32m      3\u001b[0m \u001b[0mnums\u001b[0m \u001b[0;34m=\u001b[0m \u001b[0mlist\u001b[0m\u001b[0;34m(\u001b[0m\u001b[0mmap\u001b[0m\u001b[0;34m(\u001b[0m\u001b[0mint\u001b[0m\u001b[0;34m,\u001b[0m\u001b[0minput\u001b[0m\u001b[0;34m(\u001b[0m\u001b[0;34m)\u001b[0m\u001b[0;34m.\u001b[0m\u001b[0msplit\u001b[0m\u001b[0;34m(\u001b[0m\u001b[0;34m)\u001b[0m\u001b[0;34m)\u001b[0m\u001b[0;34m)\u001b[0m\u001b[0;34m\u001b[0m\u001b[0;34m\u001b[0m\u001b[0m\n\u001b[0;32m----> 4\u001b[0;31m \u001b[0mprint\u001b[0m\u001b[0;34m(\u001b[0m\u001b[0mround\u001b[0m\u001b[0;34m(\u001b[0m\u001b[0msum\u001b[0m\u001b[0;34m(\u001b[0m\u001b[0mnums\u001b[0m\u001b[0;34m)\u001b[0m \u001b[0;34m/\u001b[0m \u001b[0mlen\u001b[0m\u001b[0;34m(\u001b[0m\u001b[0mnums\u001b[0m\u001b[0;34m)\u001b[0m\u001b[0;34m)\u001b[0m\u001b[0;34m)\u001b[0m\u001b[0;34m\u001b[0m\u001b[0;34m\u001b[0m\u001b[0m\n\u001b[0m",
            "\u001b[0;31mTypeError\u001b[0m: 'int' object is not callable"
          ]
        }
      ]
    },
    {
      "cell_type": "code",
      "metadata": {
        "colab": {
          "base_uri": "https://localhost:8080/"
        },
        "id": "JPPBnUO1IsRR",
        "outputId": "a4cf80ac-98ad-41f9-bc97-46cf472a979e"
      },
      "source": [
        "# Q19 제곱을 구하자 \r\n",
        "# a, b를 입력받아 a의 b승을 구하자. \r\n",
        "\r\n",
        "n = list(map(int, input().split()))\r\n",
        "print(n[0] ** n[1])\r\n",
        "\r\n",
        "# a, b = map(int, input().split())\r\n",
        "# print(a ** b)\r\n"
      ],
      "execution_count": 122,
      "outputs": [
        {
          "output_type": "stream",
          "text": [
            "5 2\n",
            "25\n"
          ],
          "name": "stdout"
        }
      ]
    },
    {
      "cell_type": "code",
      "metadata": {
        "colab": {
          "base_uri": "https://localhost:8080/"
        },
        "id": "PX9BP1-_PQb1",
        "outputId": "db6d4b69-e7fc-47c9-f18c-3eed148fa225"
      },
      "source": [
        "# Q20 몫과 나머지 \r\n",
        "# 두 수를 받아 첫 번째 수로 두 번째 수 나누어 몫과 나머지 구하기 \r\n",
        "\r\n",
        "n = list(map(int, input().split()))\r\n",
        "print(n[0] // n[1], n[0] % n[1])"
      ],
      "execution_count": 125,
      "outputs": [
        {
          "output_type": "stream",
          "text": [
            "51 6\n",
            "8 3\n"
          ],
          "name": "stdout"
        }
      ]
    },
    {
      "cell_type": "code",
      "metadata": {
        "colab": {
          "base_uri": "https://localhost:8080/"
        },
        "id": "ZWbPi_RxQue_",
        "outputId": "2394a7fc-f1b5-4195-811c-087ff87af9dc"
      },
      "source": [
        "# Q21 set이 아닌 것은?\r\n",
        "\r\n",
        "# 1. x = {1,2,3,4,5,6,7}\r\n",
        "# 2. x = {} -> dict\r\n",
        "# 3. x = set('python')\r\n",
        "# 4. x = set(range(5))\r\n",
        "# 5. x = set()\r\n",
        "\r\n",
        "type(x)\r\n"
      ],
      "execution_count": 132,
      "outputs": [
        {
          "output_type": "execute_result",
          "data": {
            "text/plain": [
              "set"
            ]
          },
          "metadata": {
            "tags": []
          },
          "execution_count": 132
        }
      ]
    },
    {
      "cell_type": "code",
      "metadata": {
        "id": "3CVEpl6MRyJo"
      },
      "source": [
        "# Q22 배수인지 확인하기 \r\n",
        "\r\n",
        "# Q23 print(10/2)의 결과는 5가 맞을까? -> x. 5.0이다 \r\n"
      ],
      "execution_count": 133,
      "outputs": []
    },
    {
      "cell_type": "code",
      "metadata": {
        "colab": {
          "base_uri": "https://localhost:8080/"
        },
        "id": "1h2wMUzHRzlc",
        "outputId": "704cc080-dd97-4b0c-e519-c0919b198e27"
      },
      "source": [
        "# Q24 대문자로 바꿔주세요! \r\n",
        "\r\n",
        "a = input('')\r\n",
        "print(a.upper())\r\n",
        "\r\n",
        "# print(input().upper())"
      ],
      "execution_count": 140,
      "outputs": [
        {
          "output_type": "stream",
          "text": [
            "hello\n",
            "HELLO\n"
          ],
          "name": "stdout"
        }
      ]
    },
    {
      "cell_type": "code",
      "metadata": {
        "colab": {
          "base_uri": "https://localhost:8080/"
        },
        "id": "QAMMHkSZTzV3",
        "outputId": "f90454a3-7a1e-457a-cd5b-5f07e6f5604c"
      },
      "source": [
        "# Q25 원의 넓이 구하기 \r\n",
        "\r\n",
        "def circle(r):\r\n",
        "  return r * r * 3.14\r\n",
        "\r\n",
        "circle(int(input('반지름: ')))"
      ],
      "execution_count": 150,
      "outputs": [
        {
          "output_type": "stream",
          "text": [
            "반지름: 3\n"
          ],
          "name": "stdout"
        },
        {
          "output_type": "execute_result",
          "data": {
            "text/plain": [
              "28.26"
            ]
          },
          "metadata": {
            "tags": []
          },
          "execution_count": 150
        }
      ]
    },
    {
      "cell_type": "code",
      "metadata": {
        "colab": {
          "base_uri": "https://localhost:8080/"
        },
        "id": "BTsY96_fVcl5",
        "outputId": "fb9051e1-37dd-4892-8b19-988b4d7f02b4"
      },
      "source": [
        "# Q26 행성 문제2 \r\n",
        "# 행성의 한글 이름을 입력하면 영어 이름을 반환하는 프로그램 만들기 (dict 사용)\r\n",
        "# 찾는 행성이 없을 경우 에러를 발생시키지 말 것 \r\n",
        "\r\n",
        "planet = { # dict는 가독성을 위해 쉼표에서 잘라주자. \r\n",
        "    '수성': 'Mercury', \r\n",
        "    '금성': 'Venus', \r\n",
        "    '지구': 'Earth', \r\n",
        "    '화성': 'Mars', \r\n",
        "    '목성': 'Jupiter', \r\n",
        "    '토성': 'Saturn', \r\n",
        "    '천왕성': 'Uranus', \r\n",
        "    '해왕성': 'Neptune'\r\n",
        "}\r\n",
        "\r\n",
        "try:\r\n",
        "  a = input()\r\n",
        "  print(planet[a])\r\n",
        "except KeyError: \r\n",
        "  print('None') \r\n",
        "\r\n",
        "# 다른 풀이 \r\n",
        "\r\n",
        "# if a not in planet.keys():\r\n",
        "#   print('없습니다')\r\n",
        "# else:\r\n",
        "#   print(planet[a])\r\n",
        "\r\n",
        "# print(planet.get(input()))"
      ],
      "execution_count": 173,
      "outputs": [
        {
          "output_type": "stream",
          "text": [
            "사과\n",
            "None\n"
          ],
          "name": "stdout"
        }
      ]
    },
    {
      "cell_type": "code",
      "metadata": {
        "id": "EOy_Xzh5YCTK"
      },
      "source": [
        ""
      ],
      "execution_count": null,
      "outputs": []
    }
  ]
}