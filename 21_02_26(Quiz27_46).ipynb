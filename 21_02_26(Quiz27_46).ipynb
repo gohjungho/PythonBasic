{
  "nbformat": 4,
  "nbformat_minor": 0,
  "metadata": {
    "colab": {
      "name": "21.02.26(Quiz27-46).ipynb",
      "provenance": [],
      "authorship_tag": "ABX9TyNje1WY4AcmiEyYtTeWBfsD",
      "include_colab_link": true
    },
    "kernelspec": {
      "name": "python3",
      "display_name": "Python 3"
    }
  },
  "cells": [
    {
      "cell_type": "markdown",
      "metadata": {
        "id": "view-in-github",
        "colab_type": "text"
      },
      "source": [
        "<a href=\"https://colab.research.google.com/github/gohjungho/PythonBasic/blob/main/21_02_26(Quiz27_46).ipynb\" target=\"_parent\"><img src=\"https://colab.research.google.com/assets/colab-badge.svg\" alt=\"Open In Colab\"/></a>"
      ]
    },
    {
      "cell_type": "code",
      "metadata": {
        "colab": {
          "base_uri": "https://localhost:8080/"
        },
        "id": "UGqc3aRkxbuP",
        "outputId": "ad46c717-a46b-447a-f9a2-1479f3d152c7"
      },
      "source": [
        "# Q27. 딕셔너리 만들기 \r\n",
        "# 학생의 이름을 key값으로 input 받아 수학점수를 value값으로 주는 딕셔너리 만들기\r\n",
        "\r\n",
        "key = input(\"학생 이름을 입력해주세요: \").split()\r\n",
        "value = map(int, input('점수: ').split())\r\n",
        "\r\n",
        "print(dict(zip(key,value)))"
      ],
      "execution_count": 19,
      "outputs": [
        {
          "output_type": "stream",
          "text": [
            "학생 이름을 입력해주세요: Yujin Hyewon\n",
            "점수: 70 100\n",
            "{'Yujin': 70, 'Hyewon': 100}\n"
          ],
          "name": "stdout"
        }
      ]
    },
    {
      "cell_type": "code",
      "metadata": {
        "colab": {
          "base_uri": "https://localhost:8080/"
        },
        "id": "tybH0wsK1MMv",
        "outputId": "c59a8ef4-22d5-4b65-aa8d-0fae2a0119d7"
      },
      "source": [
        "# 숫자로 입력 받아서 처리 \r\n",
        "\r\n",
        "a = map(int, input().split())\r\n",
        "\r\n",
        "print(a)"
      ],
      "execution_count": 6,
      "outputs": [
        {
          "output_type": "stream",
          "text": [
            "70 100\n",
            "<map object at 0x7f14909cac10>\n"
          ],
          "name": "stdout"
        }
      ]
    },
    {
      "cell_type": "code",
      "metadata": {
        "colab": {
          "base_uri": "https://localhost:8080/"
        },
        "id": "SKde100k2AQ-",
        "outputId": "61babaa1-2213-42ec-b96b-d485c6f675f7"
      },
      "source": [
        "a = [1,2,3,4]\r\n",
        "b = [100,200,300,400]\r\n",
        "\r\n",
        "print(list(zip(a,b)))"
      ],
      "execution_count": 9,
      "outputs": [
        {
          "output_type": "stream",
          "text": [
            "[(1, 100), (2, 200), (3, 300), (4, 400)]\n"
          ],
          "name": "stdout"
        }
      ]
    },
    {
      "cell_type": "code",
      "metadata": {
        "colab": {
          "base_uri": "https://localhost:8080/"
        },
        "id": "wBJrS_Fg20S6",
        "outputId": "cb6fcbf0-3e64-4c95-e6e1-8a7f7fad2c61"
      },
      "source": [
        "# Q28 2-gram \r\n",
        "# '2-gram'이란 문자열에서 2개의 연속된 요소를 출력하기 \r\n",
        "\r\n",
        "a = input()\r\n",
        "\r\n",
        "for i in range(len(a) - 1): # range(1, len(a))\r\n",
        "  print(a[i]+a[i+1])\r\n"
      ],
      "execution_count": 38,
      "outputs": [
        {
          "output_type": "stream",
          "text": [
            "Hello\n",
            "He\n",
            "el\n",
            "ll\n",
            "lo\n"
          ],
          "name": "stdout"
        }
      ]
    },
    {
      "cell_type": "code",
      "metadata": {
        "colab": {
          "base_uri": "https://localhost:8080/"
        },
        "id": "gypdotPo-Ies",
        "outputId": "db285695-aad6-4cb5-a4be-ca7c9e49711e"
      },
      "source": [
        "# Q29 대문자만 지나가세요 \r\n",
        "# 알파벳 하나를 입력하고 그 알파벳이 대문자이면 YES, 아니면 NO를 출력\r\n",
        "\r\n",
        "alpha = input()\r\n",
        "\r\n",
        "if alpha >= chr(65) and alpha <= chr(90): # ord(alpha) >= 65 and ord(alpha) <= 90\r\n",
        "  print(\"YES\")\r\n",
        "else: \r\n",
        "  print(\"NO\")"
      ],
      "execution_count": 46,
      "outputs": [
        {
          "output_type": "stream",
          "text": [
            "A\n",
            "YES\n"
          ],
          "name": "stdout"
        }
      ]
    },
    {
      "cell_type": "code",
      "metadata": {
        "id": "8zQZ1VfLA4AJ"
      },
      "source": [
        "isupper 대문자인지 확인 \r\n",
        "islower 소문자인지 확인 \r\n",
        "isdigit 숫자인지 확인 \r\n",
        "\r\n",
        "ord()  ASCII 코드값을 확인 \r\n",
        "chr()  위와 반대.... "
      ],
      "execution_count": null,
      "outputs": []
    },
    {
      "cell_type": "code",
      "metadata": {
        "colab": {
          "base_uri": "https://localhost:8080/"
        },
        "id": "-K-VzebnEI5h",
        "outputId": "a88152f7-2299-4bdb-bdda-4dc408680b00"
      },
      "source": [
        "alpha = input()\r\n",
        "\r\n",
        "if alpha.isupper():\r\n",
        "  print(\"YES\")\r\n",
        "else:\r\n",
        "  print(\"NO\")"
      ],
      "execution_count": 44,
      "outputs": [
        {
          "output_type": "stream",
          "text": [
            "e\n",
            "NO\n"
          ],
          "name": "stdout"
        }
      ]
    },
    {
      "cell_type": "code",
      "metadata": {
        "colab": {
          "base_uri": "https://localhost:8080/"
        },
        "id": "oPMb4pY5EeyP",
        "outputId": "6088ba42-8d83-4ab8-acdb-489f6fa5c215"
      },
      "source": [
        "# Q30 문자열 속 문자 찾기 \r\n",
        "# 입력으로 첫 줄에 문자열이 주어지고 둘째 줄에 찾을 문자가 주어지면 \r\n",
        "# 그 문자가 시작하는 index를 반환하는 프로그램 만들기 \r\n",
        "\r\n",
        "txt = input()\r\n",
        "find_txt = input()\r\n",
        "\r\n",
        "print(txt.find(find_txt)) # 찾는 값이 없을 때 -1 출력 \r\n",
        "# print(txt.index(find_txt)) # 만약 찾는 값이 없을 때 오류 출력 "
      ],
      "execution_count": 55,
      "outputs": [
        {
          "output_type": "stream",
          "text": [
            "pineapple\n",
            "apple\n",
            "4\n"
          ],
          "name": "stdout"
        }
      ]
    },
    {
      "cell_type": "code",
      "metadata": {
        "id": "BybWCzrqM8Dm"
      },
      "source": [
        "# Q31 파이썬 자료형의 복잡도 \r\n",
        "# 다음 리스트의 내장함수의 시간 복잡도가 ○(1, Big-O)이 아닌 것은? \r\n",
        "# 1) l[i]\r\n",
        "# 2) l.append(5)\r\n",
        "# 3) l[a:b]\r\n",
        "# 4) l.pop()\r\n",
        "# 5) l.clear()\r\n",
        "\r\n",
        "# 답은 3번 "
      ],
      "execution_count": 56,
      "outputs": []
    },
    {
      "cell_type": "code",
      "metadata": {
        "colab": {
          "base_uri": "https://localhost:8080/"
        },
        "id": "HIkAVjFsOVmb",
        "outputId": "89a94271-cb3b-41f4-95df-0e982b434378"
      },
      "source": [
        "# Q32 문자열 만들기 \r\n",
        "# 문자열을 입력받으면 단어의 개수를 출력하는 프로그램 만들기 \r\n",
        "\r\n",
        "txt = input().split()\r\n",
        "print(len(txt))"
      ],
      "execution_count": 59,
      "outputs": [
        {
          "output_type": "stream",
          "text": [
            "저 넓은 세상을 네 눈앞에 그려봐 네 진심을 느껴봐\n",
            "9\n"
          ],
          "name": "stdout"
        }
      ]
    },
    {
      "cell_type": "code",
      "metadata": {
        "id": "kEU7GQRjRT1J"
      },
      "source": [
        "# input\r\n",
        "# split\r\n",
        "# len\r\n",
        "\r\n",
        "# strip   양쪽 공백 지우기 \r\n",
        "# lstrip  왼쪽 공백 지우기\r\n",
        "# rstrip  오른쪽 공백 지우기"
      ],
      "execution_count": null,
      "outputs": []
    },
    {
      "cell_type": "code",
      "metadata": {
        "colab": {
          "base_uri": "https://localhost:8080/"
        },
        "id": "_F-VratfQgXm",
        "outputId": "4b49b956-9b79-493a-99e1-b38f3c12eaca"
      },
      "source": [
        "# 032-1 맨뒤 공백을 지워주는 함수를 추가해보자 \r\n",
        "\r\n",
        "txt = input()\r\n",
        "a = txt.strip().split()\r\n",
        "\r\n",
        "print(a)\r\n",
        "print(len(a))"
      ],
      "execution_count": 71,
      "outputs": [
        {
          "output_type": "stream",
          "text": [
            " 저 넓은 세상을 네 눈앞에 그려봐 네 진심을 느껴봐 \n",
            "['저', '넓은', '세상을', '네', '눈앞에', '그려봐', '네', '진심을', '느껴봐']\n",
            "9\n"
          ],
          "name": "stdout"
        }
      ]
    },
    {
      "cell_type": "code",
      "metadata": {
        "colab": {
          "base_uri": "https://localhost:8080/"
        },
        "id": "QqK1fqdTSJo5",
        "outputId": "04b5de2c-12bd-48be-f001-d02cc2aded95"
      },
      "source": [
        "# Q33 거꾸로 출력하기 \r\n",
        "# 한 줄에 여러 개의 숫자가 입력되면, 역순으로 그 숫자들을 하나씩 출력하는 프로그램 만들기 \r\n",
        "\r\n",
        "num = input().split()\r\n",
        "a = reversed(num)\r\n",
        "\r\n",
        "print(' '.join(a))"
      ],
      "execution_count": 94,
      "outputs": [
        {
          "output_type": "stream",
          "text": [
            "2 4 6 7 8\n",
            "8 7 6 4 2\n"
          ],
          "name": "stdout"
        }
      ]
    },
    {
      "cell_type": "code",
      "metadata": {
        "colab": {
          "base_uri": "https://localhost:8080/"
        },
        "id": "e7fdIbByUkVQ",
        "outputId": "1ce39fd5-568b-4c10-f08f-349beb8d703d"
      },
      "source": [
        "txt = input()\r\n",
        "txt2 = txt.split() # split을 하면 자동으로 리스트로 정리되어 반환한다. \r\n",
        "txt3 = [int(i) for i in txt2] # 문자 1, 2, 3, 4, 5를 숫자로 변경\r\n",
        "\r\n",
        "for i in range(len(txt3) - 1, -1, -1):\r\n",
        "  print(txt3[i], end=' ')\r\n"
      ],
      "execution_count": 92,
      "outputs": [
        {
          "output_type": "stream",
          "text": [
            "2 4 6 7 8\n",
            "8 7 6 4 2 "
          ],
          "name": "stdout"
        }
      ]
    },
    {
      "cell_type": "code",
      "metadata": {
        "colab": {
          "base_uri": "https://localhost:8080/"
        },
        "id": "IGOljGm2ZX3j",
        "outputId": "346544c0-e289-4e3f-b7da-0b6226f1a1df"
      },
      "source": [
        "a = input().split()\r\n",
        "\r\n",
        "for i in range(0, len(a)):\r\n",
        "  print(a.pop(), end=' ')"
      ],
      "execution_count": 93,
      "outputs": [
        {
          "output_type": "stream",
          "text": [
            "2 4 6 7 8\n",
            "8 7 6 4 2 "
          ],
          "name": "stdout"
        }
      ]
    },
    {
      "cell_type": "code",
      "metadata": {
        "colab": {
          "base_uri": "https://localhost:8080/"
        },
        "id": "pslKs4uGcQOW",
        "outputId": "db9ce118-9a8d-4837-f1d9-52865ea71904"
      },
      "source": [
        "# Q34 sort 구현하기 \r\n",
        "# 키가 주어지면 순서대로 제대로 섰는지 확인하는 프로그램 만들기 \r\n",
        "\r\n",
        "line = input().split()\r\n",
        "line_int = [int(i) for i in line]\r\n",
        "if line_int == sorted(line_int):\r\n",
        "  print('YES')\r\n",
        "else: \r\n",
        "  print('NO')"
      ],
      "execution_count": 113,
      "outputs": [
        {
          "output_type": "stream",
          "text": [
            "3 2 5 7 9\n",
            "NO\n"
          ],
          "name": "stdout"
        }
      ]
    },
    {
      "cell_type": "code",
      "metadata": {
        "colab": {
          "base_uri": "https://localhost:8080/"
        },
        "id": "oWAxjnV0dHGF",
        "outputId": "8948b3dd-b84b-48e7-b206-71acfac2adeb"
      },
      "source": [
        "# sorted & sort\r\n",
        "\r\n",
        "list = [1, 3, 2]\r\n",
        "print(list.sort()) # None   print(list) -> [1, 2, 3]\r\n",
        "print(sorted(list)) # [1, 2, 3]   print(list) -> [1, 3, 2]\r\n",
        "\r\n",
        "# <list>.sort()를 사용하면 원본 리스트 자체의 순서를 변화시킨다. \r\n",
        "# sorted(<list>)를 사용하면 정렬된 새로운 리스트를 반환 받는다. \r\n",
        "# <list>.sort()는 새로운 복사본을 만들지 않기 때문에 sorted(<list>)보다 빠르다. "
      ],
      "execution_count": 102,
      "outputs": [
        {
          "output_type": "stream",
          "text": [
            "None\n"
          ],
          "name": "stdout"
        }
      ]
    },
    {
      "cell_type": "code",
      "metadata": {
        "colab": {
          "base_uri": "https://localhost:8080/"
        },
        "id": "HkxfUkioeAqJ",
        "outputId": "8c5b3807-b6a0-4b59-f76b-92a4712c3bcc"
      },
      "source": [
        "# Q36 구구단 출력하기 \r\n",
        "\r\n",
        "num = int(input())\r\n",
        "\r\n",
        "for i in range(1,10):\r\n",
        "  print(num * i, end=' ')"
      ],
      "execution_count": 126,
      "outputs": [
        {
          "output_type": "stream",
          "text": [
            "2\n",
            "2 4 6 8 10 12 14 16 18 "
          ],
          "name": "stdout"
        }
      ]
    },
    {
      "cell_type": "code",
      "metadata": {
        "colab": {
          "base_uri": "https://localhost:8080/"
        },
        "id": "FxCN9p9C7AFi",
        "outputId": "7590f40c-307d-434e-ba95-7a15344399fc"
      },
      "source": [
        "# Q37 count 사용하기 \r\n",
        "# 학생들이 뽑은 후보들을 입력받으면 뽑힌 학생의 이름과 받은 표 수를 출력하는 프로그램\r\n",
        "\r\n",
        "a = input().split()\r\n",
        "b = list(set(a))\r\n",
        "\r\n",
        "max = 0 # 최대값 초기화\r\n",
        "\r\n",
        "for i in range(len(b)): # 0, 1, 2 \r\n",
        "  # print('현재: %d\" % max)\r\n",
        "  # print('%d\" % a.count(b[i]))\r\n",
        "  if a.count(b[i]) > a.count(b[max]):\r\n",
        "    max = i # 최대값 갱신 \r\n",
        "\r\n",
        "print('%s(이)가 총 %d표로 반장이 되었습니다.' % (b[max], a.count(b[max])))"
      ],
      "execution_count": 5,
      "outputs": [
        {
          "output_type": "stream",
          "text": [
            "원영 원영 은비 은비 은비 은비 채연 채연\n",
            "은비(이)가 총 4표로 반장이 되었습니다.\n"
          ],
          "name": "stdout"
        }
      ]
    },
    {
      "cell_type": "code",
      "metadata": {
        "colab": {
          "base_uri": "https://localhost:8080/"
        },
        "id": "VMin8hqwkZmR",
        "outputId": "d21667ab-6b82-46d6-857d-48775f67b828"
      },
      "source": [
        "a = input().split()\r\n",
        "b = list(set(a))\r\n",
        "\r\n",
        "print(a)\r\n",
        "print(b)\r\n",
        "\r\n",
        "# 원영 원영 은비 은비 은비 은비 채연 채연"
      ],
      "execution_count": 1,
      "outputs": [
        {
          "output_type": "stream",
          "text": [
            "원영 원영 은비 은비 은비 은비 채연 채연\n",
            "['원영', '원영', '은비', '은비', '은비', '은비', '채연', '채연']\n",
            "['원영', '채연', '은비']\n"
          ],
          "name": "stdout"
        }
      ]
    },
    {
      "cell_type": "code",
      "metadata": {
        "colab": {
          "base_uri": "https://localhost:8080/"
        },
        "id": "VmHyW-7yAUXS",
        "outputId": "3659f09a-8a49-4fed-c03e-5b7b2617cd74"
      },
      "source": [
        "# Q39 오타 수정하기 \r\n",
        "# 문장이 입력되면 모든 q를 e로 바꾸는 프로그램 만들기 \r\n",
        "\r\n",
        "a = input()\r\n",
        "print(a.replace('q', 'e'))"
      ],
      "execution_count": 8,
      "outputs": [
        {
          "output_type": "stream",
          "text": [
            "qqqqqqqqq qqqqq qqqq\n",
            "eeeeeeeee eeeee eeee\n"
          ],
          "name": "stdout"
        }
      ]
    },
    {
      "cell_type": "code",
      "metadata": {
        "colab": {
          "base_uri": "https://localhost:8080/"
        },
        "id": "gAgWPjBTDn2_",
        "outputId": "19816015-5d6e-4119-db63-e810bfb4731a"
      },
      "source": [
        "# Q41 소수판별\r\n",
        "# 숫자가 주어지면 소수인지 아닌지 판별하는 프로그램 만들기 \r\n",
        "# 에라토스테네스의 체\r\n",
        "\r\n",
        "a = int(input()) # 숫자를 입력 받는다. \r\n",
        "re = 0 # re 변수 초기화 \r\n",
        "\r\n",
        "for i in range(1, a + 1): # 반복문 (그 수까지)\r\n",
        "  if a % i == 0: # 조건 입력받은 수를 그 수 앞에 모든 수로 나눈 나머지 값이 0이면\r\n",
        "    re += 1 # re 값을 하나씩 증가 \r\n",
        "\r\n",
        "if re == 2: # re 값이 2면 \r\n",
        "  print(\"YES\") # 소수 \r\n",
        "else: # 아니면 \r\n",
        "  print(\"NO\") # NO"
      ],
      "execution_count": 24,
      "outputs": [
        {
          "output_type": "stream",
          "text": [
            "1\n",
            "NO\n"
          ],
          "name": "stdout"
        }
      ]
    },
    {
      "cell_type": "code",
      "metadata": {
        "colab": {
          "base_uri": "https://localhost:8080/"
        },
        "id": "JeJXF7zxLZLs",
        "outputId": "e2e67d23-af82-4bf1-86e0-e1a0ca9e7207"
      },
      "source": [
        "# 에라토스테네스의 체 (위키백과)\r\n",
        "\r\n",
        "def prime_list(n):\r\n",
        "    # 에라토스테네스의 체 초기화: n개 요소에 True 설정(소수로 간주)\r\n",
        "    sieve = [True] * n\r\n",
        "\r\n",
        "    # n의 최대 약수가 sqrt(n) 이하이므로 i=sqrt(n)까지 검사\r\n",
        "    m = int(n ** 0.5)\r\n",
        "    for i in range(2, m + 1):\r\n",
        "        if sieve[i] == True:           # i가 소수인 경우\r\n",
        "            for j in range(i+i, n, i): # i이후 i의 배수들을 False 판정\r\n",
        "                sieve[j] = False\r\n",
        "\r\n",
        "    # 소수 목록 산출\r\n",
        "    return [i for i in range(2, n) if sieve[i] == True]\r\n",
        "\r\n",
        "print(prime_list(20))\r\n",
        "max(prime_list(1000000))"
      ],
      "execution_count": 2,
      "outputs": [
        {
          "output_type": "stream",
          "text": [
            "[2, 3, 5, 7, 11, 13, 17, 19]\n"
          ],
          "name": "stdout"
        },
        {
          "output_type": "execute_result",
          "data": {
            "text/plain": [
              "999983"
            ]
          },
          "metadata": {
            "tags": []
          },
          "execution_count": 2
        }
      ]
    },
    {
      "cell_type": "code",
      "metadata": {
        "colab": {
          "base_uri": "https://localhost:8080/"
        },
        "id": "3wt2rvy8OsZL",
        "outputId": "905a2f8d-af05-4bfc-e09e-096cf2ae352d"
      },
      "source": [
        "# Q44 각 자리수의 합 \r\n",
        "# 사용자가 입력한 양의 정수의 각 자리수의 합을 구하는 프로그램 만들기 \r\n",
        "\r\n",
        "# A-1\r\n",
        "# print(sum(map(int, input())))\r\n",
        "\r\n",
        "# A-2 \r\n",
        "# n = list(map(int, input()))\r\n",
        "\r\n",
        "# for i in n:\r\n",
        "#   sum += i # 왜 자꾸 오류나지???\r\n",
        "\r\n",
        "# print(sum) \r\n",
        "\r\n",
        "# A-3 \r\n",
        "\r\n",
        "sum = 0\r\n",
        "for i in input():\r\n",
        "  sum += int(i)\r\n",
        "\r\n",
        "print(sum)"
      ],
      "execution_count": 4,
      "outputs": [
        {
          "output_type": "stream",
          "text": [
            "1234\n",
            "10\n"
          ],
          "name": "stdout"
        }
      ]
    },
    {
      "cell_type": "code",
      "metadata": {
        "colab": {
          "base_uri": "https://localhost:8080/"
        },
        "id": "lG4VQp6NQ6ns",
        "outputId": "548a41ca-d7ba-4191-c8f2-7dfcfd1cb6f5"
      },
      "source": [
        "# Q46 str 자료형의 응용 \r\n",
        "# 1~20의 모든 숫자를 일렬로 놓고 모든 자릿수의 총 합 구하기 \r\n",
        "\r\n",
        "total = 0\r\n",
        "for i in list(range(1,21)):\r\n",
        "  for j in str(i):\r\n",
        "    total += int(j)\r\n",
        "\r\n",
        "print(total)\r\n",
        "\r\n",
        "# a = 0\r\n",
        "# total = 0\r\n",
        "\r\n",
        "# while a < 21:\r\n",
        "#     total = total + a\r\n",
        "#     a = a + 1\r\n",
        "\r\n",
        "# print(total)\r\n",
        "\r\n",
        "# 210 "
      ],
      "execution_count": 15,
      "outputs": [
        {
          "output_type": "stream",
          "text": [
            "102\n"
          ],
          "name": "stdout"
        }
      ]
    },
    {
      "cell_type": "code",
      "metadata": {
        "colab": {
          "base_uri": "https://localhost:8080/"
        },
        "id": "lO5CIbigSdaE",
        "outputId": "f91f4f84-0fc7-4b7c-ce8f-b866606dc07e"
      },
      "source": [
        "# 수를 입력 받아 일렬로 나열한 그 수까지의 합 구하기 \r\n",
        "\r\n",
        "num = int(input())\r\n",
        "l = []\r\n",
        "for i in range(num+1):\r\n",
        "  l.append(i)\r\n",
        "\r\n",
        "total = 0\r\n",
        "for i in l:\r\n",
        "  for j in str(i):\r\n",
        "    total += int(j)\r\n",
        "\r\n",
        "print(total)"
      ],
      "execution_count": 26,
      "outputs": [
        {
          "output_type": "stream",
          "text": [
            "20\n",
            "102\n"
          ],
          "name": "stdout"
        }
      ]
    },
    {
      "cell_type": "code",
      "metadata": {
        "id": "g7x0V4PHW_RY"
      },
      "source": [
        ""
      ],
      "execution_count": null,
      "outputs": []
    }
  ]
}